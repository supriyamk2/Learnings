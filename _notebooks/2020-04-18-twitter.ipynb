{
 "cells": [
  {
   "cell_type": "markdown",
   "metadata": {
    "id": "94iRuD0RpnS_",
    "colab_type": "text"
   },
   "source": [
    "# Tweet Disaster Prediction"
   ]
  },
  {
   "cell_type": "code",
   "execution_count": 1,
   "metadata": {
    "id": "uPSmMGato6A4",
    "colab_type": "code",
    "colab": {
     "base_uri": "https://localhost:8080/",
     "height": 34.0
    },
    "outputId": "b728130c-9063-4a85-c9bf-7923b1e7f9ce"
   },
   "outputs": [
    {
     "data": {
      "text/plain": [
       "['.config', 'sample_data']"
      ]
     },
     "execution_count": 1,
     "metadata": {
      "tags": []
     },
     "output_type": "execute_result"
    }
   ],
   "source": [
    "import os\n",
    "os.listdir()"
   ]
  },
  {
   "cell_type": "code",
   "execution_count": 0,
   "metadata": {
    "id": "G1_nw2Lwo6A8",
    "colab_type": "code",
    "colab": {}
   },
   "outputs": [],
   "source": [
    "import pandas as pd\n",
    "import numpy as np\n",
    "import matplotlib.pyplot as plt\n",
    "%matplotlib inline\n",
    "import seaborn as sns"
   ]
  },
  {
   "cell_type": "code",
   "execution_count": 0,
   "metadata": {
    "id": "tuV5ZzUJo6A-",
    "colab_type": "code",
    "colab": {},
    "outputId": "fa7ef89b-f5e4-4183-f180-3c802ba223ca"
   },
   "outputs": [
    {
     "data": {
      "text/plain": [
       "12.47"
      ]
     },
     "execution_count": 3,
     "metadata": {
      "tags": []
     },
     "output_type": "execute_result"
    }
   ],
   "source": [
    "12.47"
   ]
  },
  {
   "cell_type": "markdown",
   "metadata": {
    "id": "a9oHbAgxo6BB",
    "colab_type": "text"
   },
   "source": [
    "# Data\n",
    "\n",
    "\n",
    ">Twitter has become an important communication channel in times of emergency.\n",
    "The ubiquitousness of smartphones enables people to announce an emergency they’re observing in real-time. Because of this, more agencies are interested in programatically monitoring Twitter (i.e. disaster relief organizations and news agencies). Soure: https://www.kaggle.com/c/nlp-getting-started/overview"
   ]
  },
  {
   "cell_type": "code",
   "execution_count": 0,
   "metadata": {
    "id": "DYOZEfJ4o6BB",
    "colab_type": "code",
    "colab": {}
   },
   "outputs": [],
   "source": [
    "df = pd.read_csv('train.csv')"
   ]
  },
  {
   "cell_type": "code",
   "execution_count": 0,
   "metadata": {
    "id": "xB0-i747o6BD",
    "colab_type": "code",
    "colab": {},
    "outputId": "cad8266a-007f-4480-fc3e-8535b562457e"
   },
   "outputs": [
    {
     "data": {
      "text/html": [
       "<div>\n",
       "<style scoped>\n",
       "    .dataframe tbody tr th:only-of-type {\n",
       "        vertical-align: middle;\n",
       "    }\n",
       "\n",
       "    .dataframe tbody tr th {\n",
       "        vertical-align: top;\n",
       "    }\n",
       "\n",
       "    .dataframe thead th {\n",
       "        text-align: right;\n",
       "    }\n",
       "</style>\n",
       "<table border=\"1\" class=\"dataframe\">\n",
       "  <thead>\n",
       "    <tr style=\"text-align: right;\">\n",
       "      <th></th>\n",
       "      <th>id</th>\n",
       "      <th>keyword</th>\n",
       "      <th>location</th>\n",
       "      <th>text</th>\n",
       "      <th>target</th>\n",
       "    </tr>\n",
       "  </thead>\n",
       "  <tbody>\n",
       "    <tr>\n",
       "      <th>0</th>\n",
       "      <td>1</td>\n",
       "      <td>NaN</td>\n",
       "      <td>NaN</td>\n",
       "      <td>Our Deeds are the Reason of this #earthquake M...</td>\n",
       "      <td>1</td>\n",
       "    </tr>\n",
       "    <tr>\n",
       "      <th>1</th>\n",
       "      <td>4</td>\n",
       "      <td>NaN</td>\n",
       "      <td>NaN</td>\n",
       "      <td>Forest fire near La Ronge Sask. Canada</td>\n",
       "      <td>1</td>\n",
       "    </tr>\n",
       "    <tr>\n",
       "      <th>2</th>\n",
       "      <td>5</td>\n",
       "      <td>NaN</td>\n",
       "      <td>NaN</td>\n",
       "      <td>All residents asked to 'shelter in place' are ...</td>\n",
       "      <td>1</td>\n",
       "    </tr>\n",
       "    <tr>\n",
       "      <th>3</th>\n",
       "      <td>6</td>\n",
       "      <td>NaN</td>\n",
       "      <td>NaN</td>\n",
       "      <td>13,000 people receive #wildfires evacuation or...</td>\n",
       "      <td>1</td>\n",
       "    </tr>\n",
       "    <tr>\n",
       "      <th>4</th>\n",
       "      <td>7</td>\n",
       "      <td>NaN</td>\n",
       "      <td>NaN</td>\n",
       "      <td>Just got sent this photo from Ruby #Alaska as ...</td>\n",
       "      <td>1</td>\n",
       "    </tr>\n",
       "  </tbody>\n",
       "</table>\n",
       "</div>"
      ],
      "text/plain": [
       "   id keyword location                                               text  \\\n",
       "0   1     NaN      NaN  Our Deeds are the Reason of this #earthquake M...   \n",
       "1   4     NaN      NaN             Forest fire near La Ronge Sask. Canada   \n",
       "2   5     NaN      NaN  All residents asked to 'shelter in place' are ...   \n",
       "3   6     NaN      NaN  13,000 people receive #wildfires evacuation or...   \n",
       "4   7     NaN      NaN  Just got sent this photo from Ruby #Alaska as ...   \n",
       "\n",
       "   target  \n",
       "0       1  \n",
       "1       1  \n",
       "2       1  \n",
       "3       1  \n",
       "4       1  "
      ]
     },
     "execution_count": 5,
     "metadata": {
      "tags": []
     },
     "output_type": "execute_result"
    }
   ],
   "source": [
    "df.head()"
   ]
  },
  {
   "cell_type": "code",
   "execution_count": 0,
   "metadata": {
    "id": "7U_FTMiro6BG",
    "colab_type": "code",
    "colab": {},
    "outputId": "6bdea4e4-f71e-4526-bde7-d9edb0a78f6d"
   },
   "outputs": [
    {
     "data": {
      "text/plain": [
       "0    4342\n",
       "1    3271\n",
       "Name: target, dtype: int64"
      ]
     },
     "execution_count": 6,
     "metadata": {
      "tags": []
     },
     "output_type": "execute_result"
    }
   ],
   "source": [
    "df['target'].value_counts()"
   ]
  },
  {
   "cell_type": "code",
   "execution_count": 0,
   "metadata": {
    "id": "qUoSSNmPo6BI",
    "colab_type": "code",
    "colab": {},
    "outputId": "b20fa3b2-76a2-4f5a-a253-17ab39934455"
   },
   "outputs": [
    {
     "data": {
      "text/plain": [
       "Text(0.5, 1.0, 'Tweet Distribution')"
      ]
     },
     "execution_count": 7,
     "metadata": {
      "tags": []
     },
     "output_type": "execute_result"
    },
    {
     "data": {
      "image/png": "[encoded data removed]",
      "text/plain": [
       "<Figure size 432x288 with 1 Axes>"
      ]
     },
     "metadata": {
      "tags": [],
      "needs_background": "light"
     },
     "output_type": "display_data"
    }
   ],
   "source": [
    "sns.barplot(x=['Normal Tweet', 'Disaster Tweet'],\n",
    "           y=df['target'].value_counts().values)\n",
    "plt.title('Tweet Distribution')"
   ]
  },
  {
   "cell_type": "markdown",
   "metadata": {
    "id": "rbI1clQOo6BL",
    "colab_type": "text"
   },
   "source": [
    "# Model"
   ]
  },
  {
   "cell_type": "code",
   "execution_count": 0,
   "metadata": {
    "id": "Eec3xPlUo6BL",
    "colab_type": "code",
    "colab": {}
   },
   "outputs": [],
   "source": [
    "from fastai2.text.all import *\n",
    "from nbdev.showdoc import *"
   ]
  },
  {
   "cell_type": "code",
   "execution_count": 0,
   "metadata": {
    "id": "fSskHCPoo6BN",
    "colab_type": "code",
    "colab": {},
    "outputId": "55e9e856-a5e2-40bb-90f5-b05de122ed71"
   },
   "outputs": [
    {
     "data": {
      "text/plain": [
       "(#4) [Path('train.csv'),Path('tweet_disaster prediction model.ipynb'),Path('.ipynb_checkpoints'),Path('models')]"
      ]
     },
     "execution_count": 9,
     "metadata": {
      "tags": []
     },
     "output_type": "execute_result"
    }
   ],
   "source": [
    "path = Path()\n",
    "path.ls()"
   ]
  },
  {
   "cell_type": "code",
   "execution_count": 0,
   "metadata": {
    "id": "kUha7Ggfo6BP",
    "colab_type": "code",
    "colab": {},
    "outputId": "ef7314b0-3eaa-483f-dd4b-6e79a2a14d8c"
   },
   "outputs": [
    {
     "data": {
      "text/html": [
       "<div>\n",
       "<style scoped>\n",
       "    .dataframe tbody tr th:only-of-type {\n",
       "        vertical-align: middle;\n",
       "    }\n",
       "\n",
       "    .dataframe tbody tr th {\n",
       "        vertical-align: top;\n",
       "    }\n",
       "\n",
       "    .dataframe thead th {\n",
       "        text-align: right;\n",
       "    }\n",
       "</style>\n",
       "<table border=\"1\" class=\"dataframe\">\n",
       "  <thead>\n",
       "    <tr style=\"text-align: right;\">\n",
       "      <th></th>\n",
       "      <th>id</th>\n",
       "      <th>keyword</th>\n",
       "      <th>location</th>\n",
       "      <th>text</th>\n",
       "      <th>target</th>\n",
       "    </tr>\n",
       "  </thead>\n",
       "  <tbody>\n",
       "    <tr>\n",
       "      <th>0</th>\n",
       "      <td>1</td>\n",
       "      <td>NaN</td>\n",
       "      <td>NaN</td>\n",
       "      <td>Our Deeds are the Reason of this #earthquake May ALLAH Forgive us all</td>\n",
       "      <td>1</td>\n",
       "    </tr>\n",
       "    <tr>\n",
       "      <th>1</th>\n",
       "      <td>4</td>\n",
       "      <td>NaN</td>\n",
       "      <td>NaN</td>\n",
       "      <td>Forest fire near La Ronge Sask. Canada</td>\n",
       "      <td>1</td>\n",
       "    </tr>\n",
       "    <tr>\n",
       "      <th>2</th>\n",
       "      <td>5</td>\n",
       "      <td>NaN</td>\n",
       "      <td>NaN</td>\n",
       "      <td>All residents asked to 'shelter in place' are being notified by officers. No other evacuation or shelter in place orders are expected</td>\n",
       "      <td>1</td>\n",
       "    </tr>\n",
       "    <tr>\n",
       "      <th>3</th>\n",
       "      <td>6</td>\n",
       "      <td>NaN</td>\n",
       "      <td>NaN</td>\n",
       "      <td>13,000 people receive #wildfires evacuation orders in California</td>\n",
       "      <td>1</td>\n",
       "    </tr>\n",
       "    <tr>\n",
       "      <th>4</th>\n",
       "      <td>7</td>\n",
       "      <td>NaN</td>\n",
       "      <td>NaN</td>\n",
       "      <td>Just got sent this photo from Ruby #Alaska as smoke from #wildfires pours into a school</td>\n",
       "      <td>1</td>\n",
       "    </tr>\n",
       "  </tbody>\n",
       "</table>\n",
       "</div>"
      ],
      "text/plain": [
       "   id keyword location  \\\n",
       "0   1     NaN      NaN   \n",
       "1   4     NaN      NaN   \n",
       "2   5     NaN      NaN   \n",
       "3   6     NaN      NaN   \n",
       "4   7     NaN      NaN   \n",
       "\n",
       "                                                                                                                                    text  \\\n",
       "0                                                                  Our Deeds are the Reason of this #earthquake May ALLAH Forgive us all   \n",
       "1                                                                                                 Forest fire near La Ronge Sask. Canada   \n",
       "2  All residents asked to 'shelter in place' are being notified by officers. No other evacuation or shelter in place orders are expected   \n",
       "3                                                                      13,000 people receive #wildfires evacuation orders in California    \n",
       "4                                               Just got sent this photo from Ruby #Alaska as smoke from #wildfires pours into a school    \n",
       "\n",
       "   target  \n",
       "0       1  \n",
       "1       1  \n",
       "2       1  \n",
       "3       1  \n",
       "4       1  "
      ]
     },
     "execution_count": 10,
     "metadata": {
      "tags": []
     },
     "output_type": "execute_result"
    }
   ],
   "source": [
    "df.head()"
   ]
  },
  {
   "cell_type": "code",
   "execution_count": 0,
   "metadata": {
    "id": "hGZRVOoTo6BS",
    "colab_type": "code",
    "colab": {},
    "outputId": "805315a9-11ac-42c3-a261-417b0a49985f"
   },
   "outputs": [
    {
     "data": {
      "text/plain": [
       "(7613, 5)"
      ]
     },
     "execution_count": 11,
     "metadata": {
      "tags": []
     },
     "output_type": "execute_result"
    }
   ],
   "source": [
    "df.shape"
   ]
  },
  {
   "cell_type": "markdown",
   "metadata": {
    "id": "vm2NdOYuo6BV",
    "colab_type": "text"
   },
   "source": [
    "Let's shuffle the data and set 20% of the data for model validation"
   ]
  },
  {
   "cell_type": "code",
   "execution_count": 0,
   "metadata": {
    "id": "ZSXy4Alao6BV",
    "colab_type": "code",
    "colab": {}
   },
   "outputs": [],
   "source": [
    "df = df.sample(frac=1).reset_index(drop=True)"
   ]
  },
  {
   "cell_type": "code",
   "execution_count": 0,
   "metadata": {
    "id": "V107-ND9o6BX",
    "colab_type": "code",
    "colab": {},
    "outputId": "8716bdda-37c8-405a-af8b-2a1ed9334193"
   },
   "outputs": [
    {
     "data": {
      "text/plain": [
       "6090.400000000001"
      ]
     },
     "execution_count": 13,
     "metadata": {
      "tags": []
     },
     "output_type": "execute_result"
    }
   ],
   "source": [
    "len(df) *0.8"
   ]
  },
  {
   "cell_type": "code",
   "execution_count": 0,
   "metadata": {
    "id": "YW77WULuo6BZ",
    "colab_type": "code",
    "colab": {}
   },
   "outputs": [],
   "source": [
    "df['is_valid'] = False"
   ]
  },
  {
   "cell_type": "code",
   "execution_count": 0,
   "metadata": {
    "id": "xQkQj2iJo6Bb",
    "colab_type": "code",
    "colab": {}
   },
   "outputs": [],
   "source": [
    "df.loc[:int(len(df)*0.8),'is_valid'] = True"
   ]
  },
  {
   "cell_type": "code",
   "execution_count": 0,
   "metadata": {
    "id": "LCBZuK3_o6Bd",
    "colab_type": "code",
    "colab": {},
    "outputId": "a50e7430-4719-4fa2-cd54-3956e66d9dd6"
   },
   "outputs": [
    {
     "data": {
      "text/plain": [
       "True     6091\n",
       "False    1522\n",
       "Name: is_valid, dtype: int64"
      ]
     },
     "execution_count": 16,
     "metadata": {
      "tags": []
     },
     "output_type": "execute_result"
    }
   ],
   "source": [
    "df['is_valid'].value_counts()"
   ]
  },
  {
   "cell_type": "code",
   "execution_count": 0,
   "metadata": {
    "id": "nUrz4l0Ho6Bf",
    "colab_type": "code",
    "colab": {},
    "outputId": "2592c8fd-8f95-4be7-ff84-a45ae399b3ab"
   },
   "outputs": [
    {
     "data": {
      "text/plain": [
       "'Obama declares disaster for typhoon-devastated Saipan #Worldnews http://t.co/9NYXjndoRA'"
      ]
     },
     "execution_count": 17,
     "metadata": {
      "tags": []
     },
     "output_type": "execute_result"
    }
   ],
   "source": [
    "df['text'][5000]"
   ]
  },
  {
   "cell_type": "code",
   "execution_count": 0,
   "metadata": {
    "id": "9mQWyOh0o6Bh",
    "colab_type": "code",
    "colab": {},
    "outputId": "f1373bea-9528-4b13-a382-9c09741f7a02"
   },
   "outputs": [
    {
     "data": {
      "text/html": [
       ""
      ],
      "text/plain": [
       "<IPython.core.display.HTML object>"
      ]
     },
     "metadata": {
      "tags": []
     },
     "output_type": "execute_result"
    }
   ],
   "source": [
    "dbunch_lm = TextDataLoaders.from_df(df, text_col='text', \n",
    "                                    label_col='target', \n",
    "                                    path=path, is_lm=True,\n",
    "                                    valid_col='is_valid')"
   ]
  },
  {
   "cell_type": "code",
   "execution_count": 0,
   "metadata": {
    "id": "Mzq9BQ43o6Bj",
    "colab_type": "code",
    "colab": {},
    "outputId": "37c9a71f-6e2c-411d-b738-4a95d4d4e0ac"
   },
   "outputs": [
    {
     "data": {
      "text/plain": [
       "(TensorText([   2,    8,  377,   10,    8,  542,   19,  431,  420,    0,    0,   42,\n",
       "           71,    8, 2907,    0,    0,   37,    8,    0,    8, 2260,   23,    0,\n",
       "           44,   45,   10,    9,    9,   11,    9,    0]),)"
      ]
     },
     "execution_count": 19,
     "metadata": {
      "tags": []
     },
     "output_type": "execute_result"
    }
   ],
   "source": [
    "dbunch_lm.train_ds[0]"
   ]
  },
  {
   "cell_type": "code",
   "execution_count": 0,
   "metadata": {
    "id": "cvirFVDUo6Bl",
    "colab_type": "code",
    "colab": {},
    "outputId": "2a35e067-984e-431e-e147-ba140f51268b"
   },
   "outputs": [
    {
     "data": {
      "text/plain": [
       "['xxunk',\n",
       " 'xxpad',\n",
       " 'xxbos',\n",
       " 'xxeos',\n",
       " 'xxfld',\n",
       " 'xxrep',\n",
       " 'xxwrep',\n",
       " 'xxup',\n",
       " 'xxmaj',\n",
       " '/',\n",
       " ':',\n",
       " 't.co',\n",
       " 'http',\n",
       " '#',\n",
       " 'the',\n",
       " '.',\n",
       " 'a',\n",
       " 'in',\n",
       " 'to',\n",
       " 'of']"
      ]
     },
     "execution_count": 20,
     "metadata": {
      "tags": []
     },
     "output_type": "execute_result"
    }
   ],
   "source": [
    "dbunch_lm.vocab[:20]"
   ]
  },
  {
   "cell_type": "code",
   "execution_count": 0,
   "metadata": {
    "id": "ySb7ofsno6Bn",
    "colab_type": "code",
    "colab": {},
    "outputId": "776ebb72-36a6-4ba4-b797-69f32eeeb4a2"
   },
   "outputs": [
    {
     "data": {
      "text/html": [
       "<table border=\"1\" class=\"dataframe\">\n",
       "  <thead>\n",
       "    <tr style=\"text-align: right;\">\n",
       "      <th></th>\n",
       "      <th>text</th>\n",
       "      <th>text_</th>\n",
       "    </tr>\n",
       "  </thead>\n",
       "  <tbody>\n",
       "    <tr>\n",
       "      <th>0</th>\n",
       "      <td>xxbos xxmaj when you xxunk already know you 're gon na drown in school this year :) http : / / t.co / xxunk xxbos # xxmaj xxunk causes # landslide in xxmaj xxunk # xxmaj pakistan xxmaj damage to 20 homes xxunk roads and xxunk # xxunk http : / / t.co / xxunk xxbos xxmaj get access to the most xxunk sources of threat information right out of the box</td>\n",
       "      <td>xxmaj when you xxunk already know you 're gon na drown in school this year :) http : / / t.co / xxunk xxbos # xxmaj xxunk causes # landslide in xxmaj xxunk # xxmaj pakistan xxmaj damage to 20 homes xxunk roads and xxunk # xxunk http : / / t.co / xxunk xxbos xxmaj get access to the most xxunk sources of threat information right out of the box .</td>\n",
       "    </tr>\n",
       "    <tr>\n",
       "      <th>1</th>\n",
       "      <td>killing this dude and tea bagging the dead body at this point xxbos crushed a 6 mile run tonight . awesome xxbos xxmaj reality xxmaj training : xxmaj train falls off elevated tracks during windstorm http : / / t.co / xxunk # xxmaj paramedic # xxup ems xxbos # nowplaying xxmaj school xxmaj of xxmaj seven xxmaj bells - xxmaj windstorm # xxup xxunk xxbos i wish that the earth sea</td>\n",
       "      <td>this dude and tea bagging the dead body at this point xxbos crushed a 6 mile run tonight . awesome xxbos xxmaj reality xxmaj training : xxmaj train falls off elevated tracks during windstorm http : / / t.co / xxunk # xxmaj paramedic # xxup ems xxbos # nowplaying xxmaj school xxmaj of xxmaj seven xxmaj bells - xxmaj windstorm # xxup xxunk xxbos i wish that the earth sea and</td>\n",
       "    </tr>\n",
       "    <tr>\n",
       "      <th>2</th>\n",
       "      <td>xxup u.s xxmaj national xxmaj park xxmaj services xxmaj tonto xxmaj national xxmaj forest : xxmaj stop the xxmaj annihilation of the xxmaj salt xxmaj river xxmaj wild xxmaj horse … https : / / t.co / xxunk via @change xxbos xxunk xxmaj another shooting in a movie theater this is getting more xxunk but xxmaj i 'm glad they got the xxunk &amp; &amp; no casualties . xxbos xxmaj xxunk a</td>\n",
       "      <td>u.s xxmaj national xxmaj park xxmaj services xxmaj tonto xxmaj national xxmaj forest : xxmaj stop the xxmaj annihilation of the xxmaj salt xxmaj river xxmaj wild xxmaj horse … https : / / t.co / xxunk via @change xxbos xxunk xxmaj another shooting in a movie theater this is getting more xxunk but xxmaj i 'm glad they got the xxunk &amp; &amp; no casualties . xxbos xxmaj xxunk a petition</td>\n",
       "    </tr>\n",
       "    <tr>\n",
       "      <th>3</th>\n",
       "      <td>: / / t.co / xxunk # xxunk # management # leadership # xxunk # startup # business xxbos xxunk do n't drown xxbos xxunk xxunk xxmaj check out this # rockin preview of @claytonbryant xxmaj danger xxmaj zone xxmaj coming soon ! https : / / t.co / xxunk # artistsunited xxbos xxmaj iûªve seen lots ask about this xxup mt xxunk # xxmaj xxunk i asked for magic xxunk but</td>\n",
       "      <td>/ / t.co / xxunk # xxunk # management # leadership # xxunk # startup # business xxbos xxunk do n't drown xxbos xxunk xxunk xxmaj check out this # rockin preview of @claytonbryant xxmaj danger xxmaj zone xxmaj coming soon ! https : / / t.co / xxunk # artistsunited xxbos xxmaj iûªve seen lots ask about this xxup mt xxunk # xxmaj xxunk i asked for magic xxunk but not</td>\n",
       "    </tr>\n",
       "    <tr>\n",
       "      <th>4</th>\n",
       "      <td>t.co / xxunk xxbos xxunk hopefully it does n't electrocute your xxunk blanket lmao xxbos xxunk your lifetime odds of dying from an airplane accident are 1 in xxunk . xxbos xxunk or sunk however it may be to the xxunk land beyond the xxunk of a xxunk cobra landing xxunk upon his back ; torch and xxbos 17 dead as xxmaj afghanistan aircraft crashes : xxmaj an xxmaj afghan military helicopter</td>\n",
       "      <td>/ xxunk xxbos xxunk hopefully it does n't electrocute your xxunk blanket lmao xxbos xxunk your lifetime odds of dying from an airplane accident are 1 in xxunk . xxbos xxunk or sunk however it may be to the xxunk land beyond the xxunk of a xxunk cobra landing xxunk upon his back ; torch and xxbos 17 dead as xxmaj afghanistan aircraft crashes : xxmaj an xxmaj afghan military helicopter has</td>\n",
       "    </tr>\n",
       "    <tr>\n",
       "      <th>5</th>\n",
       "      <td>xxmaj how xxmaj metrics xxmaj xxunk to xxup am xxmaj best 's xxmaj property / xxmaj casualty … - xxunk http : / / t.co / xxunk xxbos xxmaj news : fedex no longer to transport bioterror germs in wake of anthrax lab mishaps http : / / t.co / xxunk xxbos a new favorite : xxmaj xxunk - xxmaj detonation by xxunk https : / / t.co / xxunk on #</td>\n",
       "      <td>how xxmaj metrics xxmaj xxunk to xxup am xxmaj best 's xxmaj property / xxmaj casualty … - xxunk http : / / t.co / xxunk xxbos xxmaj news : fedex no longer to transport bioterror germs in wake of anthrax lab mishaps http : / / t.co / xxunk xxbos a new favorite : xxmaj xxunk - xxmaj detonation by xxunk https : / / t.co / xxunk on # soundcloud</td>\n",
       "    </tr>\n",
       "    <tr>\n",
       "      <th>6</th>\n",
       "      <td>2 me ? xxmaj xxunk just does nt exist ? xxmaj he s a mirage a xxunk xxunk to our xxmaj generation . a human natural disaster . xxmaj i m sorry but its true xxbos xxmaj you ca n't watch ' home xxmaj alone 2 ' without telling your kids \\n ' she used to be on xxmaj casualty ' . \\n▁ # xxmaj xxunk # xxunk xxbos xxmaj xxunk .</td>\n",
       "      <td>me ? xxmaj xxunk just does nt exist ? xxmaj he s a mirage a xxunk xxunk to our xxmaj generation . a human natural disaster . xxmaj i m sorry but its true xxbos xxmaj you ca n't watch ' home xxmaj alone 2 ' without telling your kids \\n ' she used to be on xxmaj casualty ' . \\n▁ # xxmaj xxunk # xxunk xxbos xxmaj xxunk . xxmaj</td>\n",
       "    </tr>\n",
       "    <tr>\n",
       "      <th>7</th>\n",
       "      <td>xxmaj county xxmaj georgia http : / / t.co / xxunk # xxunk xxbos xxmaj blue xxmaj bell xxmaj may xxmaj be xxmaj close to a xxmaj return xxmaj from xxmaj its xxmaj xxunk xxmaj disaster … xxmaj hot on # xxunk # xxmaj recipes http : / / t.co / xxunk xxbos http : / / t.co / xxunk xxmaj twelve feared killed in xxmaj pakistani air ambulance helicopter crash http</td>\n",
       "      <td>county xxmaj georgia http : / / t.co / xxunk # xxunk xxbos xxmaj blue xxmaj bell xxmaj may xxmaj be xxmaj close to a xxmaj return xxmaj from xxmaj its xxmaj xxunk xxmaj disaster … xxmaj hot on # xxunk # xxmaj recipes http : / / t.co / xxunk xxbos http : / / t.co / xxunk xxmaj twelve feared killed in xxmaj pakistani air ambulance helicopter crash http :</td>\n",
       "    </tr>\n",
       "    <tr>\n",
       "      <th>8</th>\n",
       "      <td>- hopefully new album coming soon :) ? http : / / t.co / xxunk xxbos xxmaj now on xxup xxunk : fire burns multiple buildings in # xxmaj xxunk xxmaj co tips to make xxunk less expensive &amp; &amp; rain . xxmaj join xxunk xxunk xxbos http : / / t.co / xxunk xxmaj had a # xxunk accident this summer ? xxmaj read our xxunk &amp; &amp; see how a</td>\n",
       "      <td>hopefully new album coming soon :) ? http : / / t.co / xxunk xxbos xxmaj now on xxup xxunk : fire burns multiple buildings in # xxmaj xxunk xxmaj co tips to make xxunk less expensive &amp; &amp; rain . xxmaj join xxunk xxunk xxbos http : / / t.co / xxunk xxmaj had a # xxunk accident this summer ? xxmaj read our xxunk &amp; &amp; see how a #</td>\n",
       "    </tr>\n",
       "  </tbody>\n",
       "</table>"
      ],
      "text/plain": [
       "<IPython.core.display.HTML object>"
      ]
     },
     "metadata": {
      "tags": []
     },
     "output_type": "execute_result"
    }
   ],
   "source": [
    "dbunch_lm.show_batch()"
   ]
  },
  {
   "cell_type": "markdown",
   "metadata": {
    "id": "yGxuoEfKo6Bp",
    "colab_type": "text"
   },
   "source": [
    "# Language model"
   ]
  },
  {
   "cell_type": "code",
   "execution_count": 0,
   "metadata": {
    "id": "2Q0VnYx5o6Bp",
    "colab_type": "code",
    "colab": {}
   },
   "outputs": [],
   "source": [
    "bs = 32"
   ]
  },
  {
   "cell_type": "code",
   "execution_count": 0,
   "metadata": {
    "id": "xqH5WaCwo6Br",
    "colab_type": "code",
    "colab": {},
    "outputId": "4b005ded-3703-4bb3-f04d-0f2d58e90c81"
   },
   "outputs": [
    {
     "data": {
      "text/plain": [
       "(#4) [Path('train.csv'),Path('tweet_disaster prediction model.ipynb'),Path('.ipynb_checkpoints'),Path('models')]"
      ]
     },
     "execution_count": 25,
     "metadata": {
      "tags": []
     },
     "output_type": "execute_result"
    }
   ],
   "source": [
    "path.ls()"
   ]
  },
  {
   "cell_type": "code",
   "execution_count": 0,
   "metadata": {
    "id": "yXiTbyBio6Bt",
    "colab_type": "code",
    "colab": {},
    "outputId": "ff499c9e-b67a-460f-b2af-fcb628945185"
   },
   "outputs": [
    {
     "data": {
      "text/plain": [
       "4568"
      ]
     },
     "execution_count": 26,
     "metadata": {
      "tags": []
     },
     "output_type": "execute_result"
    }
   ],
   "source": [
    "len(dbunch_lm.vocab)"
   ]
  },
  {
   "cell_type": "code",
   "execution_count": 0,
   "metadata": {
    "id": "_5f-Jd-Ro6Bv",
    "colab_type": "code",
    "colab": {}
   },
   "outputs": [],
   "source": [
    "learn = language_model_learner(dbunch_lm, AWD_LSTM, drop_mult=0.3, \n",
    "                               metrics=[accuracy, Perplexity()]).to_fp16()"
   ]
  },
  {
   "cell_type": "code",
   "execution_count": 0,
   "metadata": {
    "id": "KvMAcSQXo6Bx",
    "colab_type": "code",
    "colab": {},
    "outputId": "0f19a7a5-8759-4101-d2bc-80f0feb3dfd8"
   },
   "outputs": [
    {
     "data": {
      "text/html": [
       ""
      ],
      "text/plain": [
       "<IPython.core.display.HTML object>"
      ]
     },
     "metadata": {
      "tags": []
     },
     "output_type": "execute_result"
    },
    {
     "data": {
      "text/plain": [
       "SuggestedLRs(lr_min=0.09120108485221863, lr_steep=0.12022644281387329)"
      ]
     },
     "execution_count": 28,
     "metadata": {
      "tags": []
     },
     "output_type": "execute_result"
    },
    {
     "data": {
      "image/png": "[encoded data removed]",
      "text/plain": [
       "<Figure size 432x288 with 1 Axes>"
      ]
     },
     "metadata": {
      "tags": [],
      "needs_background": "light"
     },
     "output_type": "display_data"
    }
   ],
   "source": [
    "learn.lr_find()"
   ]
  },
  {
   "cell_type": "code",
   "execution_count": 0,
   "metadata": {
    "id": "Z0uou4XEo6Bz",
    "colab_type": "code",
    "colab": {},
    "outputId": "215ad2ee-b671-44a0-ff70-e2545ef9f7f9"
   },
   "outputs": [
    {
     "data": {
      "text/html": [
       "<table border=\"1\" class=\"dataframe\">\n",
       "  <thead>\n",
       "    <tr style=\"text-align: left;\">\n",
       "      <th>epoch</th>\n",
       "      <th>train_loss</th>\n",
       "      <th>valid_loss</th>\n",
       "      <th>accuracy</th>\n",
       "      <th>perplexity</th>\n",
       "      <th>time</th>\n",
       "    </tr>\n",
       "  </thead>\n",
       "  <tbody>\n",
       "    <tr>\n",
       "      <td>0</td>\n",
       "      <td>5.267512</td>\n",
       "      <td>4.748250</td>\n",
       "      <td>0.302345</td>\n",
       "      <td>115.382133</td>\n",
       "      <td>00:09</td>\n",
       "    </tr>\n",
       "  </tbody>\n",
       "</table>"
      ],
      "text/plain": [
       "<IPython.core.display.HTML object>"
      ]
     },
     "metadata": {
      "tags": []
     },
     "output_type": "execute_result"
    }
   ],
   "source": [
    "learn.fit_one_cycle(1, 1e-2, moms=(0.8,0.7,0.8))"
   ]
  },
  {
   "cell_type": "code",
   "execution_count": 0,
   "metadata": {
    "id": "jlI4CDfIo6B0",
    "colab_type": "code",
    "colab": {}
   },
   "outputs": [],
   "source": [
    "learn.save('fit_head')"
   ]
  },
  {
   "cell_type": "code",
   "execution_count": 0,
   "metadata": {
    "id": "6SPXdz0eo6B2",
    "colab_type": "code",
    "colab": {}
   },
   "outputs": [],
   "source": [
    "learn.load('fit_head');"
   ]
  },
  {
   "cell_type": "code",
   "execution_count": 0,
   "metadata": {
    "id": "nkb4_J2to6B4",
    "colab_type": "code",
    "colab": {}
   },
   "outputs": [],
   "source": [
    "learn.unfreeze()"
   ]
  },
  {
   "cell_type": "code",
   "execution_count": 0,
   "metadata": {
    "id": "y6PZaxLHo6B6",
    "colab_type": "code",
    "colab": {},
    "outputId": "e9e3fdb1-511f-4f64-dc8b-c320e988e9d3"
   },
   "outputs": [
    {
     "data": {
      "text/html": [
       "<table border=\"1\" class=\"dataframe\">\n",
       "  <thead>\n",
       "    <tr style=\"text-align: left;\">\n",
       "      <th>epoch</th>\n",
       "      <th>train_loss</th>\n",
       "      <th>valid_loss</th>\n",
       "      <th>accuracy</th>\n",
       "      <th>perplexity</th>\n",
       "      <th>time</th>\n",
       "    </tr>\n",
       "  </thead>\n",
       "  <tbody>\n",
       "    <tr>\n",
       "      <td>0</td>\n",
       "      <td>4.334154</td>\n",
       "      <td>3.816218</td>\n",
       "      <td>0.366381</td>\n",
       "      <td>45.432053</td>\n",
       "      <td>00:09</td>\n",
       "    </tr>\n",
       "    <tr>\n",
       "      <td>1</td>\n",
       "      <td>4.137093</td>\n",
       "      <td>3.779628</td>\n",
       "      <td>0.383203</td>\n",
       "      <td>43.799736</td>\n",
       "      <td>00:09</td>\n",
       "    </tr>\n",
       "    <tr>\n",
       "      <td>2</td>\n",
       "      <td>3.726204</td>\n",
       "      <td>3.519862</td>\n",
       "      <td>0.414762</td>\n",
       "      <td>33.779774</td>\n",
       "      <td>00:09</td>\n",
       "    </tr>\n",
       "    <tr>\n",
       "      <td>3</td>\n",
       "      <td>3.273387</td>\n",
       "      <td>3.638694</td>\n",
       "      <td>0.422765</td>\n",
       "      <td>38.042122</td>\n",
       "      <td>00:09</td>\n",
       "    </tr>\n",
       "    <tr>\n",
       "      <td>4</td>\n",
       "      <td>2.840678</td>\n",
       "      <td>3.873579</td>\n",
       "      <td>0.417237</td>\n",
       "      <td>48.114269</td>\n",
       "      <td>00:09</td>\n",
       "    </tr>\n",
       "    <tr>\n",
       "      <td>5</td>\n",
       "      <td>2.454613</td>\n",
       "      <td>3.989811</td>\n",
       "      <td>0.420972</td>\n",
       "      <td>54.044697</td>\n",
       "      <td>00:09</td>\n",
       "    </tr>\n",
       "    <tr>\n",
       "      <td>6</td>\n",
       "      <td>2.118985</td>\n",
       "      <td>3.996344</td>\n",
       "      <td>0.422297</td>\n",
       "      <td>54.398884</td>\n",
       "      <td>00:09</td>\n",
       "    </tr>\n",
       "    <tr>\n",
       "      <td>7</td>\n",
       "      <td>1.855865</td>\n",
       "      <td>4.069306</td>\n",
       "      <td>0.421038</td>\n",
       "      <td>58.516361</td>\n",
       "      <td>00:09</td>\n",
       "    </tr>\n",
       "    <tr>\n",
       "      <td>8</td>\n",
       "      <td>1.631469</td>\n",
       "      <td>4.039474</td>\n",
       "      <td>0.421912</td>\n",
       "      <td>56.796459</td>\n",
       "      <td>00:09</td>\n",
       "    </tr>\n",
       "    <tr>\n",
       "      <td>9</td>\n",
       "      <td>1.451424</td>\n",
       "      <td>4.031831</td>\n",
       "      <td>0.422355</td>\n",
       "      <td>56.364033</td>\n",
       "      <td>00:09</td>\n",
       "    </tr>\n",
       "  </tbody>\n",
       "</table>"
      ],
      "text/plain": [
       "<IPython.core.display.HTML object>"
      ]
     },
     "metadata": {
      "tags": []
     },
     "output_type": "execute_result"
    }
   ],
   "source": [
    "learn.fit_one_cycle(10, 2e-2, moms=(0.8,0.7,0.8))"
   ]
  },
  {
   "cell_type": "code",
   "execution_count": 0,
   "metadata": {
    "id": "Dag53SqZo6B7",
    "colab_type": "code",
    "colab": {}
   },
   "outputs": [],
   "source": [
    "learn.save('fine_tuned')"
   ]
  },
  {
   "cell_type": "code",
   "execution_count": 0,
   "metadata": {
    "id": "kvvk-yIuo6B9",
    "colab_type": "code",
    "colab": {}
   },
   "outputs": [],
   "source": [
    "learn.load('fine_tuned');"
   ]
  },
  {
   "cell_type": "code",
   "execution_count": 0,
   "metadata": {
    "id": "B72wfZyio6B_",
    "colab_type": "code",
    "colab": {}
   },
   "outputs": [],
   "source": [
    "TEXT = 'Car accidents'\n",
    "N_WORDS = 30\n",
    "N_SENTENCES = 2"
   ]
  },
  {
   "cell_type": "code",
   "execution_count": 0,
   "metadata": {
    "id": "-pb6cBMko6CB",
    "colab_type": "code",
    "colab": {},
    "outputId": "a899f909-3990-4ae3-cbd5-12aa97555cd3"
   },
   "outputs": [
    {
     "data": {
      "text/html": [
       ""
      ],
      "text/plain": [
       "<IPython.core.display.HTML object>"
      ]
     },
     "metadata": {
      "tags": []
     },
     "output_type": "execute_result"
    },
    {
     "data": {
      "text/html": [
       ""
      ],
      "text/plain": [
       "<IPython.core.display.HTML object>"
      ]
     },
     "metadata": {
      "tags": []
     },
     "output_type": "execute_result"
    },
    {
     "name": "stdout",
     "output_type": "stream",
     "text": [
      "Car accidents : The Indian Express : An airplane accident happened At Always extreme # Thriller http : / / t.co / # news\n",
      "Car accidents : The Indian Express : Village Youth Saved Many Lives http : / / t.co / children My car is\n"
     ]
    }
   ],
   "source": [
    "print(\"\\n\".join(learn.predict(TEXT, N_WORDS, temperature=0.75) for _ in range(N_SENTENCES)))"
   ]
  },
  {
   "cell_type": "code",
   "execution_count": 0,
   "metadata": {
    "id": "myjy7MOwo6CD",
    "colab_type": "code",
    "colab": {}
   },
   "outputs": [],
   "source": [
    "learn.save_encoder('fine_tuned_enc')"
   ]
  },
  {
   "cell_type": "markdown",
   "metadata": {
    "id": "b0oqpweGo6CF",
    "colab_type": "text"
   },
   "source": [
    "# Classifier"
   ]
  },
  {
   "cell_type": "code",
   "execution_count": 0,
   "metadata": {
    "id": "_T52hckuo6CG",
    "colab_type": "code",
    "colab": {}
   },
   "outputs": [],
   "source": [
    "tweet_class = DataBlock(blocks=(TextBlock.from_df('text',vocab=dbunch_lm.vocab),CategoryBlock),\n",
    "                       get_y = ColReader('target'),\n",
    "                       get_x = ColReader('text'),\n",
    "                       splitter=ColSplitter())"
   ]
  },
  {
   "cell_type": "code",
   "execution_count": 0,
   "metadata": {
    "id": "t52X_xSQo6CI",
    "colab_type": "code",
    "colab": {},
    "outputId": "23c26b8e-53a2-4bc7-c2be-bbfc0986d91c"
   },
   "outputs": [
    {
     "data": {
      "text/html": [
       "<div>\n",
       "<style scoped>\n",
       "    .dataframe tbody tr th:only-of-type {\n",
       "        vertical-align: middle;\n",
       "    }\n",
       "\n",
       "    .dataframe tbody tr th {\n",
       "        vertical-align: top;\n",
       "    }\n",
       "\n",
       "    .dataframe thead th {\n",
       "        text-align: right;\n",
       "    }\n",
       "</style>\n",
       "<table border=\"1\" class=\"dataframe\">\n",
       "  <thead>\n",
       "    <tr style=\"text-align: right;\">\n",
       "      <th></th>\n",
       "      <th>id</th>\n",
       "      <th>keyword</th>\n",
       "      <th>location</th>\n",
       "      <th>text</th>\n",
       "      <th>target</th>\n",
       "      <th>is_valid</th>\n",
       "    </tr>\n",
       "  </thead>\n",
       "  <tbody>\n",
       "    <tr>\n",
       "      <th>0</th>\n",
       "      <td>2889</td>\n",
       "      <td>damage</td>\n",
       "      <td>Charlotte NC</td>\n",
       "      <td>REPORTED: HIT &amp;amp; RUN-IN ROADWAY-PROPERTY DAMAGE at 15901 STATESVILLE RD</td>\n",
       "      <td>1</td>\n",
       "      <td>True</td>\n",
       "    </tr>\n",
       "    <tr>\n",
       "      <th>1</th>\n",
       "      <td>5925</td>\n",
       "      <td>harm</td>\n",
       "      <td>va</td>\n",
       "      <td>@malistkiss Sunnis continue to believe they are more righteous and they continually harm Shias. Defeats the ideals of Islam.</td>\n",
       "      <td>1</td>\n",
       "      <td>True</td>\n",
       "    </tr>\n",
       "  </tbody>\n",
       "</table>\n",
       "</div>"
      ],
      "text/plain": [
       "     id keyword      location  \\\n",
       "0  2889  damage  Charlotte NC   \n",
       "1  5925    harm            va   \n",
       "\n",
       "                                                                                                                           text  \\\n",
       "0                                                    REPORTED: HIT &amp; RUN-IN ROADWAY-PROPERTY DAMAGE at 15901 STATESVILLE RD   \n",
       "1  @malistkiss Sunnis continue to believe they are more righteous and they continually harm Shias. Defeats the ideals of Islam.   \n",
       "\n",
       "   target  is_valid  \n",
       "0       1      True  \n",
       "1       1      True  "
      ]
     },
     "execution_count": 40,
     "metadata": {
      "tags": []
     },
     "output_type": "execute_result"
    }
   ],
   "source": [
    "df.head(2)"
   ]
  },
  {
   "cell_type": "code",
   "execution_count": 0,
   "metadata": {
    "id": "PlOIG9bio6CJ",
    "colab_type": "code",
    "colab": {},
    "outputId": "387dcf0e-ded2-41ad-a432-68f4b5bdeabb"
   },
   "outputs": [
    {
     "data": {
      "text/html": [
       "<div>\n",
       "<style scoped>\n",
       "    .dataframe tbody tr th:only-of-type {\n",
       "        vertical-align: middle;\n",
       "    }\n",
       "\n",
       "    .dataframe tbody tr th {\n",
       "        vertical-align: top;\n",
       "    }\n",
       "\n",
       "    .dataframe thead th {\n",
       "        text-align: right;\n",
       "    }\n",
       "</style>\n",
       "<table border=\"1\" class=\"dataframe\">\n",
       "  <thead>\n",
       "    <tr style=\"text-align: right;\">\n",
       "      <th>target</th>\n",
       "      <th>0</th>\n",
       "      <th>1</th>\n",
       "    </tr>\n",
       "    <tr>\n",
       "      <th>is_valid</th>\n",
       "      <th></th>\n",
       "      <th></th>\n",
       "    </tr>\n",
       "  </thead>\n",
       "  <tbody>\n",
       "    <tr>\n",
       "      <th>False</th>\n",
       "      <td>860</td>\n",
       "      <td>662</td>\n",
       "    </tr>\n",
       "    <tr>\n",
       "      <th>True</th>\n",
       "      <td>3482</td>\n",
       "      <td>2609</td>\n",
       "    </tr>\n",
       "  </tbody>\n",
       "</table>\n",
       "</div>"
      ],
      "text/plain": [
       "target       0     1\n",
       "is_valid            \n",
       "False      860   662\n",
       "True      3482  2609"
      ]
     },
     "execution_count": 41,
     "metadata": {
      "tags": []
     },
     "output_type": "execute_result"
    }
   ],
   "source": [
    "pd.crosstab(df['is_valid'],df['target'])"
   ]
  },
  {
   "cell_type": "code",
   "execution_count": 0,
   "metadata": {
    "id": "lWEbMDeJo6CM",
    "colab_type": "code",
    "colab": {},
    "outputId": "3e69a087-9862-4c35-b3f6-062dd3dd7354"
   },
   "outputs": [
    {
     "data": {
      "text/html": [
       ""
      ],
      "text/plain": [
       "<IPython.core.display.HTML object>"
      ]
     },
     "metadata": {
      "tags": []
     },
     "output_type": "execute_result"
    }
   ],
   "source": [
    "dbunch_class = tweet_class.dataloaders(df,path, bs=bs, seq_len=80)"
   ]
  },
  {
   "cell_type": "code",
   "execution_count": 0,
   "metadata": {
    "id": "Q52gupI0o6CO",
    "colab_type": "code",
    "colab": {},
    "outputId": "e103cf8f-3a0f-4d9e-98b7-7c7ce1f3a58c"
   },
   "outputs": [
    {
     "data": {
      "text/html": [
       "<table border=\"1\" class=\"dataframe\">\n",
       "  <thead>\n",
       "    <tr style=\"text-align: right;\">\n",
       "      <th></th>\n",
       "      <th>text</th>\n",
       "      <th>category</th>\n",
       "    </tr>\n",
       "  </thead>\n",
       "  <tbody>\n",
       "    <tr>\n",
       "      <th>0</th>\n",
       "      <td>xxbos _ \\n▁ xxrep 5 ? xxup retweet \\n▁ xxrep 7 ? \\n▁ xxrep 5 ? xxup follow xxup all xxup who xxup rt \\n▁ xxrep 7 ? \\n▁ xxrep 5 ? xxup xxunk \\n▁ xxrep 7 ? \\n▁ xxrep 5 ? xxup gain xxup with \\n▁ xxrep 7 ? \\n▁ xxrep 5 ? xxup follow ? xxunk # xxup xxunk \\n▁ # xxup ty</td>\n",
       "      <td>0</td>\n",
       "    </tr>\n",
       "    <tr>\n",
       "      <th>1</th>\n",
       "      <td>xxbos xxmaj learn xxmaj how i xxmaj gained xxmaj access xxmaj to xxmaj the xxmaj secrets xxmaj of xxmaj the xxmaj top xxmaj earners &amp; &amp; xxmaj used xxmaj them xxmaj to xxmaj explode xxmaj my xxmaj home xxmaj business xxmaj here : http : / / t.co / xxunk xxmaj please # xxup rt</td>\n",
       "      <td>0</td>\n",
       "    </tr>\n",
       "    <tr>\n",
       "      <th>2</th>\n",
       "      <td>xxbos xxmaj learn xxmaj how i xxmaj gained xxmaj access xxmaj to xxmaj the xxmaj secrets xxmaj of xxmaj the xxmaj top xxmaj earners &amp; &amp; xxmaj used xxmaj them xxmaj to xxmaj explode xxmaj my xxmaj home xxmaj business xxmaj here : http : / / t.co / xxunk xxmaj please # xxup rt</td>\n",
       "      <td>0</td>\n",
       "    </tr>\n",
       "    <tr>\n",
       "      <th>3</th>\n",
       "      <td>xxbos xxmaj strong xxmaj thunderstorm 4 xxmaj miles xxmaj north of xxmaj xxunk xxmaj moving xxup se xxmaj at 25 xxup mph . xxmaj large xxmaj hail and xxmaj wind xxmaj gusts xxmaj up to 50 xxup mph xxmaj xxunk … # arwx http : / / t.co / xxunk</td>\n",
       "      <td>1</td>\n",
       "    </tr>\n",
       "    <tr>\n",
       "      <th>4</th>\n",
       "      <td>xxbos xxmaj new post on my blog : http : / / t.co / xxmaj xxunk \\n xxunk : \\n\\n xxmaj model : xxmaj cam xxmaj damage \\n\\n xxmaj toronto xxmaj xxunk 2014 \\n\\n▁ # nsfw # pussy # ass # xxunk # asian # nude # û _</td>\n",
       "      <td>0</td>\n",
       "    </tr>\n",
       "    <tr>\n",
       "      <th>5</th>\n",
       "      <td>xxbos xxmaj baltimore xxmaj city : xxup xxunk xxup north xxup at xxup mp xxunk ( fort xxup xxunk xxup tunnel xxup bore 3 : xxmaj collision : xxup xxunk xxup north xxup at xxup mp xxunk ( fort xxup xxunk xxup tunnel xxup bore 3 xxmaj xxunk …</td>\n",
       "      <td>1</td>\n",
       "    </tr>\n",
       "    <tr>\n",
       "      <th>6</th>\n",
       "      <td>xxbos # handbag # fashion # style http : / / t.co / xxunk xxmaj vintage xxmaj coach xxmaj purse xxmaj camera xxmaj bag xxmaj cross xxmaj body # xxunk \\n\\n $ xxunk ( 0 xxmaj xxunk ) \\n û _ http : / / t.co / xxunk</td>\n",
       "      <td>0</td>\n",
       "    </tr>\n",
       "    <tr>\n",
       "      <th>7</th>\n",
       "      <td>xxbos 12 ' xxunk xxup cree xxup led xxmaj work xxmaj light xxmaj bar xxmaj xxunk xxmaj spot xxmaj flood xxmaj combo xxmaj diving xxmaj offroad 4wd xxmaj boat - xxmaj full readû _ http : / / t.co / xxunk http : / / t.co / xxunk</td>\n",
       "      <td>0</td>\n",
       "    </tr>\n",
       "    <tr>\n",
       "      <th>8</th>\n",
       "      <td>xxbos xxup severe xxup weather xxup bulletin xxmaj no . 5 \\n xxup for : xxup typhoon ûï # xxunk ( soudelor ) \\n xxup tropical xxup cyclone : xxup warning \\n\\n xxup issued xxup at xxunk xxup pm 06 … http : / / t.co / xxunk</td>\n",
       "      <td>1</td>\n",
       "    </tr>\n",
       "  </tbody>\n",
       "</table>"
      ],
      "text/plain": [
       "<IPython.core.display.HTML object>"
      ]
     },
     "metadata": {
      "tags": []
     },
     "output_type": "execute_result"
    }
   ],
   "source": [
    "dbunch_class.show_batch()"
   ]
  },
  {
   "cell_type": "code",
   "execution_count": 0,
   "metadata": {
    "id": "pqbZlErro6CP",
    "colab_type": "code",
    "colab": {},
    "outputId": "470618ff-738e-40fc-aac5-22429bfe0f3b"
   },
   "outputs": [
    {
     "data": {
      "text/plain": [
       "<fastai2.text.learner.TextLearner at 0x7f638c512350>"
      ]
     },
     "execution_count": 44,
     "metadata": {
      "tags": []
     },
     "output_type": "execute_result"
    }
   ],
   "source": [
    "learn = text_classifier_learner(dbunch_class, AWD_LSTM,\n",
    "                                drop_mult=0.3, metrics=accuracy).to_fp16()\n",
    "learn.load_encoder('fine_tuned_enc')"
   ]
  },
  {
   "cell_type": "code",
   "execution_count": 0,
   "metadata": {
    "id": "WVHvh3Gyo6CS",
    "colab_type": "code",
    "colab": {},
    "outputId": "ded46e44-71f7-4c19-f426-f829f3008225"
   },
   "outputs": [
    {
     "data": {
      "text/html": [
       ""
      ],
      "text/plain": [
       "<IPython.core.display.HTML object>"
      ]
     },
     "metadata": {
      "tags": []
     },
     "output_type": "execute_result"
    },
    {
     "data": {
      "text/plain": [
       "SuggestedLRs(lr_min=0.02089296132326126, lr_steep=1.5848931980144698e-06)"
      ]
     },
     "execution_count": 45,
     "metadata": {
      "tags": []
     },
     "output_type": "execute_result"
    },
    {
     "data": {
      "image/png": "[encoded data removed]",
      "text/plain": [
       "<Figure size 432x288 with 1 Axes>"
      ]
     },
     "metadata": {
      "tags": [],
      "needs_background": "light"
     },
     "output_type": "display_data"
    }
   ],
   "source": [
    "learn.lr_find()"
   ]
  },
  {
   "cell_type": "code",
   "execution_count": 0,
   "metadata": {
    "id": "GgEsqnYvo6CU",
    "colab_type": "code",
    "colab": {},
    "outputId": "7f686bb4-8b75-4afb-9bad-573a6f2653a1"
   },
   "outputs": [
    {
     "data": {
      "text/html": [
       "<table border=\"1\" class=\"dataframe\">\n",
       "  <thead>\n",
       "    <tr style=\"text-align: left;\">\n",
       "      <th>epoch</th>\n",
       "      <th>train_loss</th>\n",
       "      <th>valid_loss</th>\n",
       "      <th>accuracy</th>\n",
       "      <th>time</th>\n",
       "    </tr>\n",
       "  </thead>\n",
       "  <tbody>\n",
       "    <tr>\n",
       "      <td>0</td>\n",
       "      <td>0.704973</td>\n",
       "      <td>0.508694</td>\n",
       "      <td>0.759810</td>\n",
       "      <td>00:05</td>\n",
       "    </tr>\n",
       "  </tbody>\n",
       "</table>"
      ],
      "text/plain": [
       "<IPython.core.display.HTML object>"
      ]
     },
     "metadata": {
      "tags": []
     },
     "output_type": "execute_result"
    }
   ],
   "source": [
    "learn.fit_one_cycle(1, 1e-2, moms=(0.8,0.7, 0.8))"
   ]
  },
  {
   "cell_type": "code",
   "execution_count": 0,
   "metadata": {
    "id": "OCZrE3X7o6CV",
    "colab_type": "code",
    "colab": {},
    "outputId": "02b4d6e3-c72f-4eec-b79e-0d9a8c670394"
   },
   "outputs": [
    {
     "data": {
      "text/plain": [
       "<fastai2.text.learner.TextLearner at 0x7f638c512350>"
      ]
     },
     "execution_count": 47,
     "metadata": {
      "tags": []
     },
     "output_type": "execute_result"
    }
   ],
   "source": [
    "learn.save('first')\n",
    "learn.load('first')"
   ]
  },
  {
   "cell_type": "code",
   "execution_count": 0,
   "metadata": {
    "id": "dy71Hpqao6CX",
    "colab_type": "code",
    "colab": {},
    "outputId": "d1067528-0b4c-40d9-d9f2-7e25bfc34cb4"
   },
   "outputs": [
    {
     "data": {
      "text/html": [
       "<table border=\"1\" class=\"dataframe\">\n",
       "  <thead>\n",
       "    <tr style=\"text-align: left;\">\n",
       "      <th>epoch</th>\n",
       "      <th>train_loss</th>\n",
       "      <th>valid_loss</th>\n",
       "      <th>accuracy</th>\n",
       "      <th>time</th>\n",
       "    </tr>\n",
       "  </thead>\n",
       "  <tbody>\n",
       "    <tr>\n",
       "      <td>0</td>\n",
       "      <td>0.608329</td>\n",
       "      <td>0.601274</td>\n",
       "      <td>0.713512</td>\n",
       "      <td>00:05</td>\n",
       "    </tr>\n",
       "    <tr>\n",
       "      <td>1</td>\n",
       "      <td>0.568861</td>\n",
       "      <td>0.554379</td>\n",
       "      <td>0.754556</td>\n",
       "      <td>00:05</td>\n",
       "    </tr>\n",
       "    <tr>\n",
       "      <td>2</td>\n",
       "      <td>0.435586</td>\n",
       "      <td>0.618796</td>\n",
       "      <td>0.757675</td>\n",
       "      <td>00:05</td>\n",
       "    </tr>\n",
       "    <tr>\n",
       "      <td>3</td>\n",
       "      <td>0.347951</td>\n",
       "      <td>0.634054</td>\n",
       "      <td>0.762436</td>\n",
       "      <td>00:05</td>\n",
       "    </tr>\n",
       "    <tr>\n",
       "      <td>4</td>\n",
       "      <td>0.284382</td>\n",
       "      <td>0.645415</td>\n",
       "      <td>0.767854</td>\n",
       "      <td>00:05</td>\n",
       "    </tr>\n",
       "  </tbody>\n",
       "</table>"
      ],
      "text/plain": [
       "<IPython.core.display.HTML object>"
      ]
     },
     "metadata": {
      "tags": []
     },
     "output_type": "execute_result"
    }
   ],
   "source": [
    "learn.freeze_to(-2)\n",
    "learn.fit_one_cycle(5, slice(1e-2/(2.6**4),1e-2), moms=(0.8,0.7, 0.8))"
   ]
  },
  {
   "cell_type": "code",
   "execution_count": 0,
   "metadata": {
    "id": "hFCR6qFso6CZ",
    "colab_type": "code",
    "colab": {},
    "outputId": "b442547b-4b87-4b01-dfac-bb120d1ee940"
   },
   "outputs": [
    {
     "data": {
      "text/html": [
       "<table border=\"1\" class=\"dataframe\">\n",
       "  <thead>\n",
       "    <tr style=\"text-align: left;\">\n",
       "      <th>epoch</th>\n",
       "      <th>train_loss</th>\n",
       "      <th>valid_loss</th>\n",
       "      <th>accuracy</th>\n",
       "      <th>time</th>\n",
       "    </tr>\n",
       "  </thead>\n",
       "  <tbody>\n",
       "    <tr>\n",
       "      <td>0</td>\n",
       "      <td>0.236459</td>\n",
       "      <td>0.734144</td>\n",
       "      <td>0.752422</td>\n",
       "      <td>00:05</td>\n",
       "    </tr>\n",
       "  </tbody>\n",
       "</table>"
      ],
      "text/plain": [
       "<IPython.core.display.HTML object>"
      ]
     },
     "metadata": {
      "tags": []
     },
     "output_type": "execute_result"
    }
   ],
   "source": [
    "learn.freeze_to(-3)\n",
    "learn.fit_one_cycle(1, slice(5e-3/(2.6**4),5e-3),moms=(0.8,0.7, 0.8))"
   ]
  },
  {
   "cell_type": "code",
   "execution_count": 0,
   "metadata": {
    "id": "pN12GCwwo6Cb",
    "colab_type": "code",
    "colab": {},
    "outputId": "e6499ce6-da57-4723-8d26-0a91d7012286"
   },
   "outputs": [
    {
     "data": {
      "text/html": [
       "<table border=\"1\" class=\"dataframe\">\n",
       "  <thead>\n",
       "    <tr style=\"text-align: left;\">\n",
       "      <th>epoch</th>\n",
       "      <th>train_loss</th>\n",
       "      <th>valid_loss</th>\n",
       "      <th>accuracy</th>\n",
       "      <th>time</th>\n",
       "    </tr>\n",
       "  </thead>\n",
       "  <tbody>\n",
       "    <tr>\n",
       "      <td>0</td>\n",
       "      <td>0.184168</td>\n",
       "      <td>0.726901</td>\n",
       "      <td>0.757675</td>\n",
       "      <td>00:06</td>\n",
       "    </tr>\n",
       "    <tr>\n",
       "      <td>1</td>\n",
       "      <td>0.172427</td>\n",
       "      <td>0.725028</td>\n",
       "      <td>0.759810</td>\n",
       "      <td>00:06</td>\n",
       "    </tr>\n",
       "  </tbody>\n",
       "</table>"
      ],
      "text/plain": [
       "<IPython.core.display.HTML object>"
      ]
     },
     "metadata": {
      "tags": []
     },
     "output_type": "execute_result"
    }
   ],
   "source": [
    "learn.unfreeze()\n",
    "learn.fit_one_cycle(2, slice(1e-3/(2.6**4),1e-3), moms=(0.8,0.7, 0.8))"
   ]
  },
  {
   "cell_type": "code",
   "execution_count": 0,
   "metadata": {
    "id": "u3TZsrTPo6Cf",
    "colab_type": "code",
    "colab": {},
    "outputId": "b23e11ec-24d6-4109-aff0-ff418d75ee02"
   },
   "outputs": [
    {
     "data": {
      "text/html": [
       "<table border=\"1\" class=\"dataframe\">\n",
       "  <thead>\n",
       "    <tr style=\"text-align: left;\">\n",
       "      <th>epoch</th>\n",
       "      <th>train_loss</th>\n",
       "      <th>valid_loss</th>\n",
       "      <th>accuracy</th>\n",
       "      <th>time</th>\n",
       "    </tr>\n",
       "  </thead>\n",
       "  <tbody>\n",
       "    <tr>\n",
       "      <td>0</td>\n",
       "      <td>0.127019</td>\n",
       "      <td>0.748010</td>\n",
       "      <td>0.760302</td>\n",
       "      <td>00:06</td>\n",
       "    </tr>\n",
       "    <tr>\n",
       "      <td>1</td>\n",
       "      <td>0.132342</td>\n",
       "      <td>0.803429</td>\n",
       "      <td>0.764078</td>\n",
       "      <td>00:06</td>\n",
       "    </tr>\n",
       "    <tr>\n",
       "      <td>2</td>\n",
       "      <td>0.121426</td>\n",
       "      <td>0.796278</td>\n",
       "      <td>0.764735</td>\n",
       "      <td>00:06</td>\n",
       "    </tr>\n",
       "    <tr>\n",
       "      <td>3</td>\n",
       "      <td>0.124574</td>\n",
       "      <td>0.800234</td>\n",
       "      <td>0.771138</td>\n",
       "      <td>00:06</td>\n",
       "    </tr>\n",
       "  </tbody>\n",
       "</table>"
      ],
      "text/plain": [
       "<IPython.core.display.HTML object>"
      ]
     },
     "metadata": {
      "tags": []
     },
     "output_type": "execute_result"
    }
   ],
   "source": [
    "learn.fit_one_cycle(4,slice(1e-3/(2.6**4),1e-3), moms=(0.8,0.7, 0.8))"
   ]
  },
  {
   "cell_type": "code",
   "execution_count": 0,
   "metadata": {
    "id": "N1rWr5Apo6Ch",
    "colab_type": "code",
    "colab": {},
    "outputId": "d6001e5c-cbfd-4d9a-fcf9-a5f519c9727e"
   },
   "outputs": [
    {
     "data": {
      "text/html": [
       ""
      ],
      "text/plain": [
       "<IPython.core.display.HTML object>"
      ]
     },
     "metadata": {
      "tags": []
     },
     "output_type": "execute_result"
    },
    {
     "data": {
      "text/plain": [
       "('1', tensor(1), tensor([1.5999e-05, 9.9998e-01]))"
      ]
     },
     "execution_count": 52,
     "metadata": {
      "tags": []
     },
     "output_type": "execute_result"
    }
   ],
   "source": [
    "learn.predict(\"there's a fire emergency in my city\")"
   ]
  },
  {
   "cell_type": "code",
   "execution_count": 0,
   "metadata": {
    "id": "7WpsMv5ko6Cj",
    "colab_type": "code",
    "colab": {},
    "outputId": "1f6f75a3-bc4c-4745-8335-d9d8b6703058"
   },
   "outputs": [
    {
     "data": {
      "text/html": [
       ""
      ],
      "text/plain": [
       "<IPython.core.display.HTML object>"
      ]
     },
     "metadata": {
      "tags": []
     },
     "output_type": "execute_result"
    },
    {
     "data": {
      "text/plain": [
       "('0', tensor(0), tensor([0.9959, 0.0041]))"
      ]
     },
     "execution_count": 53,
     "metadata": {
      "tags": []
     },
     "output_type": "execute_result"
    }
   ],
   "source": [
    "learn.predict(\"What a peaceful place to live\")"
   ]
  },
  {
   "cell_type": "code",
   "execution_count": 0,
   "metadata": {
    "id": "wNjdJQDXo6Cm",
    "colab_type": "code",
    "colab": {},
    "outputId": "79aca75a-4041-4393-829d-a47b13c127a4"
   },
   "outputs": [
    {
     "data": {
      "text/html": [
       ""
      ],
      "text/plain": [
       "<IPython.core.display.HTML object>"
      ]
     },
     "metadata": {
      "tags": []
     },
     "output_type": "execute_result"
    },
    {
     "data": {
      "text/html": [
       "<table border=\"1\" class=\"dataframe\">\n",
       "  <thead>\n",
       "    <tr style=\"text-align: right;\">\n",
       "      <th></th>\n",
       "      <th>text</th>\n",
       "      <th>category</th>\n",
       "      <th>category_</th>\n",
       "    </tr>\n",
       "  </thead>\n",
       "  <tbody>\n",
       "    <tr>\n",
       "      <th>0</th>\n",
       "      <td>xxbos . : . : . : . : . : . : . : . : . : . : . : . : . : . : . : . : . : . : . : . : . : xxup rt xxunk : # xxunk \\n\\n xxmaj indian xxmaj army xxunk _ http : / / t.co / xxunk g</td>\n",
       "      <td>0</td>\n",
       "      <td>0</td>\n",
       "    </tr>\n",
       "    <tr>\n",
       "      <th>1</th>\n",
       "      <td>xxbos xxup info xxup u. xxup xxunk : xxup xxunk xxup xxunk . xxup exp xxup inst xxup apch . xxup rwy 05 . xxup curfew xxup in xxup oper xxup until 2030 xxup z. xxup taxiways xxup foxtrot 5 &amp; &amp; xxup foxtrot 6 xxup navbl . xxup tmp : 10 . xxup wnd : xxunk / 6 .</td>\n",
       "      <td>0</td>\n",
       "      <td>0</td>\n",
       "    </tr>\n",
       "    <tr>\n",
       "      <th>2</th>\n",
       "      <td>xxbos i xxmaj hate xxmaj to xxmaj talking xxmaj xxunk xxmaj with xxmaj my xxmaj xxunk … i xxmaj mean i xxmaj love xxmaj her xxmaj as xxmaj to xxmaj death xxmaj but xxmaj she xxmaj talk xxmaj so xxmaj damn xxmaj much xxmaj xxunk xxrep 3 h xxrep 3 e xxunk xxrep 3 ! xxrep 6 ?</td>\n",
       "      <td>0</td>\n",
       "      <td>0</td>\n",
       "    </tr>\n",
       "    <tr>\n",
       "      <th>3</th>\n",
       "      <td>xxbos xxmaj truth … \\n https : / / t.co / xxunk \\n▁ # xxmaj news \\n▁ # xxup bbc \\n▁ # xxup cnn \\n▁ # xxmaj islam \\n▁ # xxmaj truth \\n▁ # god \\n▁ # xxup isis \\n▁ # terrorism \\n▁ # xxmaj quran \\n▁ # xxmaj lies http : / / t.co / xxunk</td>\n",
       "      <td>1</td>\n",
       "      <td>1</td>\n",
       "    </tr>\n",
       "    <tr>\n",
       "      <th>4</th>\n",
       "      <td>xxbos xxmaj truth … \\n https : / / t.co / xxunk \\n▁ # xxmaj news \\n▁ # xxup bbc \\n▁ # xxup cnn \\n▁ # xxmaj islam \\n▁ # xxmaj truth \\n▁ # god \\n▁ # xxup isis \\n▁ # terrorism \\n▁ # xxmaj quran \\n▁ # xxmaj lies http : / / t.co / xxunk</td>\n",
       "      <td>1</td>\n",
       "      <td>1</td>\n",
       "    </tr>\n",
       "    <tr>\n",
       "      <th>5</th>\n",
       "      <td>xxbos xxmaj learn xxmaj how i xxmaj gained xxmaj access xxmaj to xxmaj the xxmaj secrets xxmaj of xxmaj the xxmaj top xxmaj earners &amp; &amp; xxmaj used xxmaj them xxmaj to xxmaj explode xxmaj my xxmaj home xxmaj business xxmaj here : http : / / t.co / xxunk xxmaj please # xxup rt</td>\n",
       "      <td>0</td>\n",
       "      <td>0</td>\n",
       "    </tr>\n",
       "    <tr>\n",
       "      <th>6</th>\n",
       "      <td>xxbos xxmaj strong xxmaj thunderstorm 4 xxmaj miles xxmaj north of xxmaj xxunk xxmaj moving xxup se xxmaj at 25 xxup mph . xxmaj large xxmaj hail and xxmaj wind xxmaj gusts xxmaj up to 50 xxup mph xxmaj xxunk … # arwx http : / / t.co / xxunk</td>\n",
       "      <td>1</td>\n",
       "      <td>1</td>\n",
       "    </tr>\n",
       "    <tr>\n",
       "      <th>7</th>\n",
       "      <td>xxbos # nowplaying * xxmaj cliff xxmaj richard - i xxmaj could xxmaj easily xxmaj fall ( in xxmaj love xxmaj with xxmaj you ) ( &amp; &amp; xxmaj xxunk ) * # xxmaj internet # xxmaj xxunk # xxmaj radio xxmaj on http : / / t.co / xxunk</td>\n",
       "      <td>0</td>\n",
       "      <td>0</td>\n",
       "    </tr>\n",
       "    <tr>\n",
       "      <th>8</th>\n",
       "      <td>xxbos xxmaj xxunk xxmaj hot xxmaj deals # xxunk &gt; &gt; http : / / t.co / xxunk xxunk xxunk xxunk xxunk xxup led xxmaj work xxmaj light xxup flood xxmaj lamp xxmaj xxunk xxmaj truck xxup suv xxup xxunk xxup aû _ http : / / t.co / xxunk</td>\n",
       "      <td>0</td>\n",
       "      <td>0</td>\n",
       "    </tr>\n",
       "  </tbody>\n",
       "</table>"
      ],
      "text/plain": [
       "<IPython.core.display.HTML object>"
      ]
     },
     "metadata": {
      "tags": []
     },
     "output_type": "execute_result"
    }
   ],
   "source": [
    "learn.show_results()"
   ]
  },
  {
   "cell_type": "markdown",
   "metadata": {
    "id": "vOd7HSk6o6Cp",
    "colab_type": "text"
   },
   "source": [
    "# Interpretation"
   ]
  },
  {
   "cell_type": "code",
   "execution_count": 0,
   "metadata": {
    "id": "2x2D_Ca6o6Cp",
    "colab_type": "code",
    "colab": {}
   },
   "outputs": [],
   "source": [
    "from fastai.text.interpret import *"
   ]
  },
  {
   "cell_type": "code",
   "execution_count": 0,
   "metadata": {
    "id": "DdoXRCj-o6Cr",
    "colab_type": "code",
    "colab": {},
    "outputId": "969d4816-1981-4223-9194-c8516787c530"
   },
   "outputs": [
    {
     "data": {
      "text/html": [
       ""
      ],
      "text/plain": [
       "<IPython.core.display.HTML object>"
      ]
     },
     "metadata": {
      "tags": []
     },
     "output_type": "execute_result"
    }
   ],
   "source": [
    "interp = ClassificationInterpretation.from_learner(learn)"
   ]
  },
  {
   "cell_type": "code",
   "execution_count": 0,
   "metadata": {
    "id": "Wgrd0pd8o6Ct",
    "colab_type": "code",
    "colab": {},
    "outputId": "bc0a37d4-4357-434a-9478-78d9717dd67c"
   },
   "outputs": [
    {
     "data": {
      "text/plain": [
       "array([[2911,  571],\n",
       "       [ 823, 1786]])"
      ]
     },
     "execution_count": 59,
     "metadata": {
      "tags": []
     },
     "output_type": "execute_result"
    }
   ],
   "source": [
    "interp.confusion_matrix()"
   ]
  },
  {
   "cell_type": "code",
   "execution_count": 0,
   "metadata": {
    "id": "f-QavImUo6Cv",
    "colab_type": "code",
    "colab": {},
    "outputId": "bc82a49d-0374-4b6a-9c93-df5b1ea85a93"
   },
   "outputs": [
    {
     "data": {
      "text/html": [
       "<table border=\"1\" class=\"dataframe\">\n",
       "  <thead>\n",
       "    <tr style=\"text-align: right;\">\n",
       "      <th></th>\n",
       "      <th>input</th>\n",
       "      <th>target</th>\n",
       "      <th>predicted</th>\n",
       "      <th>probability</th>\n",
       "      <th>loss</th>\n",
       "    </tr>\n",
       "  </thead>\n",
       "  <tbody>\n",
       "    <tr>\n",
       "      <th>0</th>\n",
       "      <td>xxbos xxmaj hellfire is surrounded by desires so be careful and donûªt let your desires control you ! # xxmaj afterlife</td>\n",
       "      <td>1</td>\n",
       "      <td>0</td>\n",
       "      <td>0.9999997615814209</td>\n",
       "      <td>15.078125</td>\n",
       "    </tr>\n",
       "    <tr>\n",
       "      <th>1</th>\n",
       "      <td>xxbos xxmaj large rain xxunk falling in xxmaj rock xxmaj hill off xxmaj xxunk xxmaj road . # rain # xxunk # drought</td>\n",
       "      <td>0</td>\n",
       "      <td>1</td>\n",
       "      <td>0.9999959468841553</td>\n",
       "      <td>12.410160064697266</td>\n",
       "    </tr>\n",
       "    <tr>\n",
       "      <th>2</th>\n",
       "      <td>xxbos xxmaj fire waves and darkness</td>\n",
       "      <td>0</td>\n",
       "      <td>1</td>\n",
       "      <td>0.9999955892562866</td>\n",
       "      <td>12.332035064697266</td>\n",
       "    </tr>\n",
       "    <tr>\n",
       "      <th>3</th>\n",
       "      <td>xxbos xxmaj trauma xxmaj team needs to come to the xxmaj american xxmaj e - shop .</td>\n",
       "      <td>0</td>\n",
       "      <td>1</td>\n",
       "      <td>0.9999877214431763</td>\n",
       "      <td>11.312512397766113</td>\n",
       "    </tr>\n",
       "    <tr>\n",
       "      <th>4</th>\n",
       "      <td>xxbos @youngheroesid xxmaj lava xxmaj blast dan xxmaj power xxmaj red # pantherattack xxunk xxunk</td>\n",
       "      <td>1</td>\n",
       "      <td>0</td>\n",
       "      <td>0.9999871253967285</td>\n",
       "      <td>11.26173210144043</td>\n",
       "    </tr>\n",
       "  </tbody>\n",
       "</table>"
      ],
      "text/plain": [
       "<IPython.core.display.HTML object>"
      ]
     },
     "metadata": {
      "tags": []
     },
     "output_type": "execute_result"
    }
   ],
   "source": [
    "interp.plot_top_losses(5)"
   ]
  },
  {
   "cell_type": "code",
   "execution_count": 0,
   "metadata": {
    "id": "3-tiotZ2o6Cw",
    "colab_type": "code",
    "colab": {},
    "outputId": "552ad03a-37a0-41e2-c4e9-f31d1d4d88f4"
   },
   "outputs": [
    {
     "data": {
      "image/png": "[encoded data removed]",
      "text/plain": [
       "<Figure size 432x288 with 1 Axes>"
      ]
     },
     "metadata": {
      "tags": [],
      "needs_background": "light"
     },
     "output_type": "display_data"
    }
   ],
   "source": [
    "interp.plot_confusion_matrix()"
   ]
  },
  {
   "cell_type": "code",
   "execution_count": 0,
   "metadata": {
    "id": "d8TEIZsoo6Cy",
    "colab_type": "code",
    "colab": {}
   },
   "outputs": [],
   "source": [
    ""
   ]
  }
 ],
 "metadata": {
  "kernelspec": {
   "display_name": "Python 3",
   "language": "python",
   "name": "python3"
  },
  "language_info": {
   "codemirror_mode": {
    "name": "ipython",
    "version": 3
   },
   "file_extension": ".py",
   "mimetype": "text/x-python",
   "name": "python",
   "nbconvert_exporter": "python",
   "pygments_lexer": "ipython3",
   "version": "3.7.6"
  },
  "colab": {
   "name": "2020-04-18-twitter.ipynb",
   "provenance": [],
   "collapsed_sections": [
    "yGxuoEfKo6Bp",
    "b0oqpweGo6CF",
    "vOd7HSk6o6Cp"
   ]
  }
 },
 "nbformat": 4,
 "nbformat_minor": 0
}
